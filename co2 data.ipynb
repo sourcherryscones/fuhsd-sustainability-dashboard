{
 "cells": [
  {
   "cell_type": "code",
   "execution_count": null,
   "metadata": {},
   "outputs": [],
   "source": [
    "# Load the CSV file\n",
    "data = pd.read_csv('homestead co2.csv')\n",
    "\n",
    "# Print column names to check for any discrepancies\n",
    "print(data.columns)\n",
    "\n",
    "# If the column names include spaces or are different, correct them in the code\n",
    "data['Date'] = pd.to_datetime(data[' Date'].str.strip())  # Adjust the column name as found\n",
    "data = data.sort_values('Date')  # Ensure sorting is done after parsing the date\n",
    "\n",
    "# Convert data to JSON format\n",
    "json_data = data.to_json(orient='records')\n",
    "print(json_data)"
   ]
  },
  {
   "cell_type": "code",
   "execution_count": null,
   "metadata": {},
   "outputs": [],
   "source": [
    "# Load the entire datasets\n",
    "monta_vista_df = pd.read_csv('Monta Vista.csv')\n",
    "\n",
    "# Extract relevant columns\n",
    "\n",
    "# For Monta Vista, use the provided 'Date' and the total CO2 emissions\n",
    "monta_vista_extracted = monta_vista_df[[' Date', 'Total CO2 Emissions (Therms + KWH to Co2)']]\n",
    "monta_vista_extracted.columns = ['Date', 'CO2 Emissions']  # Rename columns for uniformity\n",
    "\n",
    "# Save the extracted data back to CSV if needed\n",
    "monta_vista_extracted.to_csv('monta vista co2.csv', index=False)\n",
    "\n",
    "monta_vista_extracted.head()\n"
   ]
  }
 ],
 "metadata": {
  "language_info": {
   "name": "python"
  }
 },
 "nbformat": 4,
 "nbformat_minor": 2
}
