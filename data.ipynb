{
 "cells": [
  {
   "cell_type": "code",
   "execution_count": 6,
   "metadata": {},
   "outputs": [
    {
     "name": "stdout",
     "output_type": "stream",
     "text": [
      "Index([' Date', 'Total CO2 Emissions'], dtype='object')\n",
      "[{\" Date\":\" 11\\/20\\/2018\",\"Total CO2 Emissions\":333264.96,\"Date\":1542672000000},{\" Date\":\" 12\\/20\\/2018\",\"Total CO2 Emissions\":204859.35,\"Date\":1545264000000},{\" Date\":\" 1\\/22\\/2019\",\"Total CO2 Emissions\":0.0,\"Date\":1548115200000},{\" Date\":\" 2\\/21\\/2019\",\"Total CO2 Emissions\":0.0,\"Date\":1550707200000},{\" Date\":\" 3\\/22\\/2019\",\"Total CO2 Emissions\":0.0,\"Date\":1553212800000},{\" Date\":\" 4\\/23\\/2019\",\"Total CO2 Emissions\":0.0,\"Date\":1555977600000},{\" Date\":\" 5\\/22\\/2019\",\"Total CO2 Emissions\":455.67,\"Date\":1558483200000},{\" Date\":\" 6\\/21\\/2019\",\"Total CO2 Emissions\":84079.35,\"Date\":1561075200000},{\" Date\":\" 7\\/23\\/2019\",\"Total CO2 Emissions\":50771.52,\"Date\":1563840000000},{\" Date\":\" 8\\/22\\/2019\",\"Total CO2 Emissions\":31122.81,\"Date\":1566432000000},{\" Date\":\" 9\\/23\\/2019\",\"Total CO2 Emissions\":87142.77,\"Date\":1569196800000},{\" Date\":\" 10\\/22\\/2019\",\"Total CO2 Emissions\":231222.33,\"Date\":1571702400000},{\" Date\":\" 11\\/20\\/2019\",\"Total CO2 Emissions\":266072.85,\"Date\":1574208000000},{\" Date\":\" 12\\/20\\/2019\",\"Total CO2 Emissions\":171908.37,\"Date\":1576800000000},{\" Date\":\" 1\\/22\\/2020\",\"Total CO2 Emissions\":321390.09,\"Date\":1579651200000},{\" Date\":\" 2\\/21\\/2020\",\"Total CO2 Emissions\":452238.75,\"Date\":1582243200000},{\" Date\":\" 3\\/23\\/2020\",\"Total CO2 Emissions\":298041.12,\"Date\":1584921600000},{\" Date\":\" 4\\/22\\/2020\",\"Total CO2 Emissions\":58896.72,\"Date\":1587513600000},{\" Date\":\" 5\\/21\\/2020\",\"Total CO2 Emissions\":5056.29,\"Date\":1590019200000},{\" Date\":\" 6\\/22\\/2020\",\"Total CO2 Emissions\":4084.56,\"Date\":1592784000000},{\" Date\":\" 7\\/21\\/2020\",\"Total CO2 Emissions\":5616.27,\"Date\":1595289600000},{\" Date\":\" 8\\/20\\/2020\",\"Total CO2 Emissions\":5001.39,\"Date\":1597881600000},{\" Date\":\" 9\\/20\\/2020\",\"Total CO2 Emissions\":35240.31,\"Date\":1600560000000},{\" Date\":\" 10\\/21\\/2020\",\"Total CO2 Emissions\":61114.68,\"Date\":1603238400000},{\" Date\":\" 11\\/19\\/2020\",\"Total CO2 Emissions\":160049.97,\"Date\":1605744000000},{\" Date\":\" 12\\/21\\/2020\",\"Total CO2 Emissions\":200467.35,\"Date\":1608508800000},{\" Date\":\" 1\\/21\\/2021\",\"Total CO2 Emissions\":194636.97,\"Date\":1611187200000},{\" Date\":\" 2\\/22\\/2021\",\"Total CO2 Emissions\":178150.5,\"Date\":1613952000000},{\" Date\":\" 3\\/10\\/2021\",\"Total CO2 Emissions\":156195.99,\"Date\":1615334400000},{\" Date\":\" 4\\/9\\/2021\",\"Total CO2 Emissions\":108729.45,\"Date\":1617926400000},{\" Date\":\" 5\\/10\\/2021\",\"Total CO2 Emissions\":586513.17,\"Date\":1620604800000},{\" Date\":\" 6\\/9\\/2021\",\"Total CO2 Emissions\":115893.9,\"Date\":1623196800000},{\" Date\":\" 7\\/9\\/2021\",\"Total CO2 Emissions\":8542.44,\"Date\":1625788800000},{\" Date\":\" 8\\/10\\/2021\",\"Total CO2 Emissions\":33697.62,\"Date\":1628553600000},{\" Date\":\" 9\\/9\\/2021\",\"Total CO2 Emissions\":85671.45,\"Date\":1631145600000},{\" Date\":\" 10\\/7\\/2021\",\"Total CO2 Emissions\":126357.84,\"Date\":1633564800000},{\" Date\":\" 11\\/8\\/2021\",\"Total CO2 Emissions\":348724.8,\"Date\":1636329600000},{\" Date\":\" 12\\/8\\/2021\",\"Total CO2 Emissions\":171447.21,\"Date\":1638921600000},{\" Date\":\" 1\\/6\\/2022\",\"Total CO2 Emissions\":177398.37,\"Date\":1641427200000},{\" Date\":\" 2\\/7\\/2022\",\"Total CO2 Emissions\":647100.8100000001,\"Date\":1644192000000},{\" Date\":\" 3\\/8\\/2022\",\"Total CO2 Emissions\":465689.25,\"Date\":1646697600000},{\" Date\":\" 4\\/8\\/2022\",\"Total CO2 Emissions\":400275.9,\"Date\":1649376000000},{\" Date\":\" 5\\/9\\/2022\",\"Total CO2 Emissions\":279106.11,\"Date\":1652054400000},{\" Date\":\" 6\\/8\\/2022\",\"Total CO2 Emissions\":105594.66,\"Date\":1654646400000},{\" Date\":\" 7\\/8\\/2022\",\"Total CO2 Emissions\":5270.4,\"Date\":1657238400000},{\" Date\":\" 8\\/9\\/2022\",\"Total CO2 Emissions\":9722.79,\"Date\":1660003200000},{\" Date\":\" 9\\/8\\/2022\",\"Total CO2 Emissions\":28992.69,\"Date\":1662595200000},{\" Date\":\" 10\\/7\\/2022\",\"Total CO2 Emissions\":37611.99,\"Date\":1665100800000},{\" Date\":\" 11\\/7\\/2022\",\"Total CO2 Emissions\":143706.24,\"Date\":1667779200000},{\" Date\":\" 12\\/8\\/2022\",\"Total CO2 Emissions\":178924.59,\"Date\":1670457600000},{\" Date\":\" 1\\/9\\/2023\",\"Total CO2 Emissions\":360918.09,\"Date\":1673222400000},{\" Date\":\" 2\\/8\\/2023\",\"Total CO2 Emissions\":746859.6,\"Date\":1675814400000},{\" Date\":\" 3\\/9\\/2023\",\"Total CO2 Emissions\":465579.45,\"Date\":1678320000000},{\" Date\":\" 4\\/10\\/2023\",\"Total CO2 Emissions\":525936.51,\"Date\":1681084800000},{\" Date\":\" 5\\/9\\/2023\",\"Total CO2 Emissions\":198408.6,\"Date\":1683590400000},{\" Date\":\" 6\\/8\\/2023\",\"Total CO2 Emissions\":45704.25,\"Date\":1686182400000},{\" Date\":\" 7\\/10\\/2023\",\"Total CO2 Emissions\":27719.01,\"Date\":1688947200000}]\n"
     ]
    }
   ],
   "source": [
    "import pandas as pd\n",
    "\n",
    "# Load the CSV file\n",
    "data = pd.read_csv('monta vista co2.csv')\n",
    "\n",
    "# Print column names to check for any discrepancies\n",
    "print(data.columns)\n",
    "\n",
    "# If the column names include spaces or are different, correct them in the code\n",
    "data['Date'] = pd.to_datetime(data[' Date'].str.strip())  # Adjust the column name as found\n",
    "data = data.sort_values('Date')  # Ensure sorting is done after parsing the date\n",
    "\n",
    "# Convert data to JSON format\n",
    "json_data = data.to_json(orient='records')\n",
    "print(json_data)\n"
   ]
  },
  {
   "cell_type": "code",
   "execution_count": 7,
   "metadata": {},
   "outputs": [
    {
     "name": "stdout",
     "output_type": "stream",
     "text": [
      "Index([' Date', 'Total Carbon Emissions'], dtype='object')\n",
      "[{\" Date\":\" 11\\/27\\/2018\",\"Total Carbon Emissions\":109782.87,\"Date\":1543276800000},{\" Date\":\" 12\\/26\\/2018\",\"Total Carbon Emissions\":117015.51,\"Date\":1545782400000},{\" Date\":\" 1\\/27\\/2019\",\"Total Carbon Emissions\":135285.42,\"Date\":1548547200000},{\" Date\":\" 2\\/26\\/2019\",\"Total Carbon Emissions\":156105.3,\"Date\":1551139200000},{\" Date\":\" 3\\/27\\/2019\",\"Total Carbon Emissions\":125009.73,\"Date\":1553644800000},{\" Date\":\" 4\\/28\\/2019\",\"Total Carbon Emissions\":91760.91,\"Date\":1556409600000},{\" Date\":\" 5\\/28\\/2019\",\"Total Carbon Emissions\":74745.66,\"Date\":1559001600000},{\" Date\":\" 6\\/26\\/2019\",\"Total Carbon Emissions\":49515.57,\"Date\":1561507200000},{\" Date\":\" 7\\/28\\/2019\",\"Total Carbon Emissions\":55609.35,\"Date\":1564272000000},{\" Date\":\" 8\\/27\\/2019\",\"Total Carbon Emissions\":71660.34,\"Date\":1566864000000},{\" Date\":\" 9\\/26\\/2019\",\"Total Carbon Emissions\":86186.34,\"Date\":1569456000000},{\" Date\":\" 10\\/27\\/2019\",\"Total Carbon Emissions\":96667.86,\"Date\":1572134400000},{\" Date\":\" 11\\/25\\/2019\",\"Total Carbon Emissions\":108684.9,\"Date\":1574640000000},{\" Date\":\" 12\\/26\\/2019\",\"Total Carbon Emissions\":142120.89,\"Date\":1577318400000},{\" Date\":\" 1\\/27\\/2020\",\"Total Carbon Emissions\":155485.68,\"Date\":1580083200000},{\" Date\":\" 2\\/26\\/2020\",\"Total Carbon Emissions\":124938.75,\"Date\":1582675200000},{\" Date\":\" 3\\/26\\/2020\",\"Total Carbon Emissions\":94468.23,\"Date\":1585180800000},{\" Date\":\" 4\\/27\\/2020\",\"Total Carbon Emissions\":55725.84,\"Date\":1587945600000},{\" Date\":\" 5\\/27\\/2020\",\"Total Carbon Emissions\":27754.05,\"Date\":1590537600000},{\" Date\":\" 6\\/25\\/2020\",\"Total Carbon Emissions\":37725.24,\"Date\":1593043200000},{\" Date\":\" 7\\/26\\/2020\",\"Total Carbon Emissions\":28240.95,\"Date\":1595721600000},{\" Date\":\" 8\\/25\\/2020\",\"Total Carbon Emissions\":56549.25,\"Date\":1598313600000},{\" Date\":\" 9\\/24\\/2020\",\"Total Carbon Emissions\":58001.76,\"Date\":1600905600000},{\" Date\":\" 10\\/26\\/2020\",\"Total Carbon Emissions\":60266.7,\"Date\":1603670400000},{\" Date\":\" 11\\/24\\/2020\",\"Total Carbon Emissions\":50238.21,\"Date\":1606176000000},{\" Date\":\" 12\\/27\\/2020\",\"Total Carbon Emissions\":92313.39,\"Date\":1609027200000},{\" Date\":\" 1\\/26\\/2021\",\"Total Carbon Emissions\":73297.32,\"Date\":1611619200000},{\" Date\":\" 2\\/25\\/2021\",\"Total Carbon Emissions\":96047.34,\"Date\":1614211200000},{\" Date\":\" 3\\/28\\/2021\",\"Total Carbon Emissions\":69944.61,\"Date\":1616889600000},{\" Date\":\" 4\\/27\\/2021\",\"Total Carbon Emissions\":72524.13,\"Date\":1619481600000},{\" Date\":\" 5\\/26\\/2021\",\"Total Carbon Emissions\":55696.95,\"Date\":1621987200000},{\" Date\":\" 6\\/27\\/2021\",\"Total Carbon Emissions\":39375.51,\"Date\":1624752000000},{\" Date\":\" 7\\/27\\/2021\",\"Total Carbon Emissions\":25390.53,\"Date\":1627344000000},{\" Date\":\" 8\\/26\\/2021\",\"Total Carbon Emissions\":67476.84,\"Date\":1629936000000},{\" Date\":\" 9\\/27\\/2021\",\"Total Carbon Emissions\":93899.85,\"Date\":1632700800000},{\" Date\":\" 10\\/26\\/2021\",\"Total Carbon Emissions\":94239.12,\"Date\":1635206400000},{\" Date\":\" 11\\/28\\/2021\",\"Total Carbon Emissions\":104236.89,\"Date\":1638057600000},{\" Date\":\" 12\\/26\\/2021\",\"Total Carbon Emissions\":115733.79,\"Date\":1640476800000},{\" Date\":\" 1\\/25\\/2022\",\"Total Carbon Emissions\":115733.04,\"Date\":1643068800000},{\" Date\":\" 2\\/24\\/2022\",\"Total Carbon Emissions\":111090.48,\"Date\":1645660800000},{\" Date\":\" 3\\/27\\/2022\",\"Total Carbon Emissions\":96327.45,\"Date\":1648339200000},{\" Date\":\" 4\\/26\\/2022\",\"Total Carbon Emissions\":69565.29,\"Date\":1650931200000},{\" Date\":\" 5\\/25\\/2022\",\"Total Carbon Emissions\":63402.48,\"Date\":1653436800000},{\" Date\":\" 6\\/26\\/2022\",\"Total Carbon Emissions\":28421.67,\"Date\":1656201600000},{\" Date\":\" 7\\/26\\/2022\",\"Total Carbon Emissions\":15132.72,\"Date\":1658793600000},{\" Date\":\" 8\\/25\\/2022\",\"Total Carbon Emissions\":34041.33,\"Date\":1661385600000},{\" Date\":\" 9\\/26\\/2022\",\"Total Carbon Emissions\":64034.4,\"Date\":1664150400000},{\" Date\":\" 10\\/25\\/2022\",\"Total Carbon Emissions\":61048.41,\"Date\":1666656000000},{\" Date\":\" 11\\/27\\/2022\",\"Total Carbon Emissions\":98788.44,\"Date\":1669507200000},{\" Date\":\" 12\\/26\\/2022\",\"Total Carbon Emissions\":129459.24,\"Date\":1672012800000},{\" Date\":\" 1\\/25\\/2023\",\"Total Carbon Emissions\":125836.02,\"Date\":1674604800000},{\" Date\":\" 2\\/26\\/2023\",\"Total Carbon Emissions\":135202.98,\"Date\":1677369600000},{\" Date\":\" 3\\/27\\/2023\",\"Total Carbon Emissions\":142728.3,\"Date\":1679875200000},{\" Date\":\" 4\\/26\\/2023\",\"Total Carbon Emissions\":111419.7,\"Date\":1682467200000},{\" Date\":\" 5\\/25\\/2023\",\"Total Carbon Emissions\":93054.09,\"Date\":1684972800000},{\" Date\":\" 6\\/26\\/2023\",\"Total Carbon Emissions\":53215.08,\"Date\":1687737600000}]\n"
     ]
    }
   ],
   "source": [
    "import pandas as pd\n",
    "\n",
    "# Load the CSV file\n",
    "data = pd.read_csv('homestead co2.csv')\n",
    "\n",
    "# Print column names to check for any discrepancies\n",
    "print(data.columns)\n",
    "\n",
    "# If the column names include spaces or are different, correct them in the code\n",
    "data['Date'] = pd.to_datetime(data[' Date'].str.strip())  # Adjust the column name as found\n",
    "data = data.sort_values('Date')  # Ensure sorting is done after parsing the date\n",
    "\n",
    "# Convert data to JSON format\n",
    "json_data = data.to_json(orient='records')\n",
    "print(json_data)\n"
   ]
  }
 ],
 "metadata": {
  "kernelspec": {
   "display_name": "Python 3",
   "language": "python",
   "name": "python3"
  },
  "language_info": {
   "codemirror_mode": {
    "name": "ipython",
    "version": 3
   },
   "file_extension": ".py",
   "mimetype": "text/x-python",
   "name": "python",
   "nbconvert_exporter": "python",
   "pygments_lexer": "ipython3",
   "version": "3.11.8"
  }
 },
 "nbformat": 4,
 "nbformat_minor": 2
}
