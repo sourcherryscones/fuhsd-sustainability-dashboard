{
 "cells": [
  {
   "cell_type": "code",
   "execution_count": 3,
   "metadata": {},
   "outputs": [],
   "source": [
    "import pandas as pd\n"
   ]
  },
  {
   "cell_type": "code",
   "execution_count": 15,
   "metadata": {},
   "outputs": [
    {
     "name": "stdout",
     "output_type": "stream",
     "text": [
      "Index([' Date', 'Total CO2e Emissions'], dtype='object')\n",
      "2696660.5500000003\n"
     ]
    }
   ],
   "source": [
    "# Load the CSV file\n",
    "mv_data = pd.read_csv('monta vista co2.csv')\n",
    "\n",
    "# Print column names to check for any discrepancies\n",
    "print(mv_data.columns)\n",
    "\n",
    "# If the column names include spaces or are different, correct them in the code\n",
    "mv_data['Date'] = pd.to_datetime(mv_data[' Date'].str.strip())  # Adjust the column name as found\n",
    "mv_data = mv_data.sort_values('Date')  # Ensure sorting is done after parsing the date\n",
    "\n",
    "# Convert data to JSON format\n",
    "mv_json_data = mv_data.to_json(orient='records')\n",
    "# print(mv_json_data)\n",
    "\n",
    "f = open('mv_data.json', 'w')\n",
    "f.write(mv_json_data)\n",
    "f.close()\n",
    "\n",
    "mv_this_year = mv_data.loc[(mv_data['Date'] >= '2022-08-01')\n",
    "                     & (mv_data['Date'] < '2023-06-01')]\n",
    "\n",
    "mv_this_year\n",
    "\n",
    "total_mv_emissions_22_23 = mv_this_year['Total CO2e Emissions'].sum()\n",
    "print(total_mv_emissions_22_23)\n"
   ]
  },
  {
   "cell_type": "code",
   "execution_count": 16,
   "metadata": {},
   "outputs": [
    {
     "name": "stdout",
     "output_type": "stream",
     "text": [
      "Index([' Date', 'Total CO2e Emissions'], dtype='object')\n",
      "[{\" Date\":\" 11\\/27\\/2018\",\"Total CO2e Emissions\":109782.87,\"Date\":1543276800000},{\" Date\":\" 12\\/26\\/2018\",\"Total CO2e Emissions\":117015.51,\"Date\":1545782400000},{\" Date\":\" 1\\/27\\/2019\",\"Total CO2e Emissions\":135285.42,\"Date\":1548547200000},{\" Date\":\" 2\\/26\\/2019\",\"Total CO2e Emissions\":156105.3,\"Date\":1551139200000},{\" Date\":\" 3\\/27\\/2019\",\"Total CO2e Emissions\":125009.73,\"Date\":1553644800000},{\" Date\":\" 4\\/28\\/2019\",\"Total CO2e Emissions\":91760.91,\"Date\":1556409600000},{\" Date\":\" 5\\/28\\/2019\",\"Total CO2e Emissions\":74745.66,\"Date\":1559001600000},{\" Date\":\" 6\\/26\\/2019\",\"Total CO2e Emissions\":49515.57,\"Date\":1561507200000},{\" Date\":\" 7\\/28\\/2019\",\"Total CO2e Emissions\":55609.35,\"Date\":1564272000000},{\" Date\":\" 8\\/27\\/2019\",\"Total CO2e Emissions\":71660.34,\"Date\":1566864000000},{\" Date\":\" 9\\/26\\/2019\",\"Total CO2e Emissions\":86186.34,\"Date\":1569456000000},{\" Date\":\" 10\\/27\\/2019\",\"Total CO2e Emissions\":96667.86,\"Date\":1572134400000},{\" Date\":\" 11\\/25\\/2019\",\"Total CO2e Emissions\":108684.9,\"Date\":1574640000000},{\" Date\":\" 12\\/26\\/2019\",\"Total CO2e Emissions\":142120.89,\"Date\":1577318400000},{\" Date\":\" 1\\/27\\/2020\",\"Total CO2e Emissions\":155485.68,\"Date\":1580083200000},{\" Date\":\" 2\\/26\\/2020\",\"Total CO2e Emissions\":124938.75,\"Date\":1582675200000},{\" Date\":\" 3\\/26\\/2020\",\"Total CO2e Emissions\":94468.23,\"Date\":1585180800000},{\" Date\":\" 4\\/27\\/2020\",\"Total CO2e Emissions\":55725.84,\"Date\":1587945600000},{\" Date\":\" 5\\/27\\/2020\",\"Total CO2e Emissions\":27754.05,\"Date\":1590537600000},{\" Date\":\" 6\\/25\\/2020\",\"Total CO2e Emissions\":37725.24,\"Date\":1593043200000},{\" Date\":\" 7\\/26\\/2020\",\"Total CO2e Emissions\":28240.95,\"Date\":1595721600000},{\" Date\":\" 8\\/25\\/2020\",\"Total CO2e Emissions\":56549.25,\"Date\":1598313600000},{\" Date\":\" 9\\/24\\/2020\",\"Total CO2e Emissions\":58001.76,\"Date\":1600905600000},{\" Date\":\" 10\\/26\\/2020\",\"Total CO2e Emissions\":60266.7,\"Date\":1603670400000},{\" Date\":\" 11\\/24\\/2020\",\"Total CO2e Emissions\":50238.21,\"Date\":1606176000000},{\" Date\":\" 12\\/27\\/2020\",\"Total CO2e Emissions\":92313.39,\"Date\":1609027200000},{\" Date\":\" 1\\/26\\/2021\",\"Total CO2e Emissions\":73297.32,\"Date\":1611619200000},{\" Date\":\" 2\\/25\\/2021\",\"Total CO2e Emissions\":96047.34,\"Date\":1614211200000},{\" Date\":\" 3\\/28\\/2021\",\"Total CO2e Emissions\":69944.61,\"Date\":1616889600000},{\" Date\":\" 4\\/27\\/2021\",\"Total CO2e Emissions\":72524.13,\"Date\":1619481600000},{\" Date\":\" 5\\/26\\/2021\",\"Total CO2e Emissions\":55696.95,\"Date\":1621987200000},{\" Date\":\" 6\\/27\\/2021\",\"Total CO2e Emissions\":39375.51,\"Date\":1624752000000},{\" Date\":\" 7\\/27\\/2021\",\"Total CO2e Emissions\":25390.53,\"Date\":1627344000000},{\" Date\":\" 8\\/26\\/2021\",\"Total CO2e Emissions\":67476.84,\"Date\":1629936000000},{\" Date\":\" 9\\/27\\/2021\",\"Total CO2e Emissions\":93899.85,\"Date\":1632700800000},{\" Date\":\" 10\\/26\\/2021\",\"Total CO2e Emissions\":94239.12,\"Date\":1635206400000},{\" Date\":\" 11\\/28\\/2021\",\"Total CO2e Emissions\":104236.89,\"Date\":1638057600000},{\" Date\":\" 12\\/26\\/2021\",\"Total CO2e Emissions\":115733.79,\"Date\":1640476800000},{\" Date\":\" 1\\/25\\/2022\",\"Total CO2e Emissions\":115733.04,\"Date\":1643068800000},{\" Date\":\" 2\\/24\\/2022\",\"Total CO2e Emissions\":111090.48,\"Date\":1645660800000},{\" Date\":\" 3\\/27\\/2022\",\"Total CO2e Emissions\":96327.45,\"Date\":1648339200000},{\" Date\":\" 4\\/26\\/2022\",\"Total CO2e Emissions\":69565.29,\"Date\":1650931200000},{\" Date\":\" 5\\/25\\/2022\",\"Total CO2e Emissions\":63402.48,\"Date\":1653436800000},{\" Date\":\" 6\\/26\\/2022\",\"Total CO2e Emissions\":28421.67,\"Date\":1656201600000},{\" Date\":\" 7\\/26\\/2022\",\"Total CO2e Emissions\":15132.72,\"Date\":1658793600000},{\" Date\":\" 8\\/25\\/2022\",\"Total CO2e Emissions\":34041.33,\"Date\":1661385600000},{\" Date\":\" 9\\/26\\/2022\",\"Total CO2e Emissions\":64034.4,\"Date\":1664150400000},{\" Date\":\" 10\\/25\\/2022\",\"Total CO2e Emissions\":61048.41,\"Date\":1666656000000},{\" Date\":\" 11\\/27\\/2022\",\"Total CO2e Emissions\":98788.44,\"Date\":1669507200000},{\" Date\":\" 12\\/26\\/2022\",\"Total CO2e Emissions\":129459.24,\"Date\":1672012800000},{\" Date\":\" 1\\/25\\/2023\",\"Total CO2e Emissions\":125836.02,\"Date\":1674604800000},{\" Date\":\" 2\\/26\\/2023\",\"Total CO2e Emissions\":135202.98,\"Date\":1677369600000},{\" Date\":\" 3\\/27\\/2023\",\"Total CO2e Emissions\":142728.3,\"Date\":1679875200000},{\" Date\":\" 4\\/26\\/2023\",\"Total CO2e Emissions\":111419.7,\"Date\":1682467200000},{\" Date\":\" 5\\/25\\/2023\",\"Total CO2e Emissions\":93054.09,\"Date\":1684972800000},{\" Date\":\" 6\\/26\\/2023\",\"Total CO2e Emissions\":53215.08,\"Date\":1687737600000}]\n",
      "995612.91\n"
     ]
    }
   ],
   "source": [
    "# Load the CSV file\n",
    "hhs_data = pd.read_csv('homestead co2.csv')\n",
    "\n",
    "# Print column names to check for any discrepancies\n",
    "print(hhs_data.columns)\n",
    "\n",
    "# If the column names include spaces or are different, correct them in the code\n",
    "hhs_data['Date'] = pd.to_datetime(hhs_data[' Date'].str.strip())  # Adjust the column name as found\n",
    "hhs_data = hhs_data.sort_values('Date')  # Ensure sorting is done after parsing the date\n",
    "\n",
    "# Convert data to JSON format\n",
    "hhs_json_data = hhs_data.to_json(orient='records')\n",
    "print(hhs_json_data)\n",
    "\n",
    "f = open('hhs_data.json', 'w')\n",
    "f.write(hhs_json_data)\n",
    "f.close()\n",
    "\n",
    "hhs_this_year = hhs_data.loc[(hhs_data['Date'] >= '2022-08-01')\n",
    "                     & (hhs_data['Date'] < '2023-06-01')]['Total CO2e Emissions']\n",
    "total_hhs_emissions_22_23 = hhs_this_year.sum()\n",
    "print(total_hhs_emissions_22_23)\n"
   ]
  },
  {
   "cell_type": "code",
   "execution_count": 32,
   "metadata": {},
   "outputs": [
    {
     "name": "stdout",
     "output_type": "stream",
     "text": [
      "3692273.4600000004\n"
     ]
    }
   ],
   "source": [
    "'''\n",
    "# Load the CSV file\n",
    "lhs_data = pd.read_csv('lynbrook co2.csv')\n",
    "\n",
    "# Print column names to check for any discrepancies\n",
    "print(lhs_data.columns)\n",
    "\n",
    "# If the column names include spaces or are different, correct them in the code\n",
    "lhs_data['Date'] = pd.to_datetime(lhs_data[' Date'].str.strip())  # Adjust the column name as found\n",
    "lhs_data = lhs_data.sort_values('Date')  # Ensure sorting is done after parsing the date\n",
    "\n",
    "# Convert data to JSON format\n",
    "lhs_json_data = lhs_data.to_json(orient='records')\n",
    "print(lhs_json_data)\n",
    "\n",
    "f = open('lhs_data.json', 'w')\n",
    "f.write(lhs_json_data)\n",
    "f.close()\n",
    "\n",
    "'''\n",
    "\n",
    "print(total_hhs_emissions_22_23 + total_mv_emissions_22_23)"
   ]
  },
  {
   "cell_type": "code",
   "execution_count": 30,
   "metadata": {},
   "outputs": [
    {
     "name": "stdout",
     "output_type": "stream",
     "text": [
      "            Day  Energy delivered (kWh)  AVG kWh delivered per session (kWh)  \\\n",
      "301  2024-05-28              123.716020                            13.746225   \n",
      "302  2024-05-29              100.781470                            16.796912   \n",
      "303  2024-05-30               57.179676                            11.435935   \n",
      "304  2024-05-31               49.274986                             7.039284   \n",
      "305  2024-06-01                0.000000                             0.000000   \n",
      "\n",
      "     Max kWh delivered per session (kWh) Max kW hour (kW)  GHGs avoided (lbs)  \\\n",
      "301                            40.341440              9am          193.292644   \n",
      "302                            38.080147             10am          157.459938   \n",
      "303                            24.509321              8am           89.336941   \n",
      "304                            16.358315              8am           76.986734   \n",
      "305                             0.000000                -            0.000000   \n",
      "\n",
      "     Gasoline avoided (Gal)  Electric miles provided (mi)  \\\n",
      "301                9.865820                    220.295335   \n",
      "302                8.036888                    179.456854   \n",
      "303                4.559833                    101.817177   \n",
      "304                3.929468                     87.741665   \n",
      "305                0.000000                      0.000000   \n",
      "\n",
      "     Potential revenue ($)  Collected revenue ($)  Discounts granted ($)  \n",
      "301              37.110000                  18.89              18.220000  \n",
      "302              30.230000                  20.82               9.410000  \n",
      "303              17.150002                   8.92               8.230002  \n",
      "304              14.790001                   7.72               7.070001  \n",
      "305               0.000000                   0.00               0.000000  \n",
      "16511.23387487\n"
     ]
    }
   ],
   "source": [
    "ev_data = pd.read_csv('fuhsd_ev_data_22_23.csv')\n",
    "\n",
    "this_year = ev_data.loc[(ev_data['Day'] >= '2023-08-01')\n",
    "                     & (ev_data['Day'] <= '2024-06-20')]\n",
    "\n",
    "print(this_year.tail())\n",
    "\n",
    "print(this_year['GHGs avoided (lbs)'].sum())"
   ]
  }
 ],
 "metadata": {
  "kernelspec": {
   "display_name": "Python 3",
   "language": "python",
   "name": "python3"
  },
  "language_info": {
   "codemirror_mode": {
    "name": "ipython",
    "version": 3
   },
   "file_extension": ".py",
   "mimetype": "text/x-python",
   "name": "python",
   "nbconvert_exporter": "python",
   "pygments_lexer": "ipython3",
   "version": "3.11.9"
  }
 },
 "nbformat": 4,
 "nbformat_minor": 2
}
